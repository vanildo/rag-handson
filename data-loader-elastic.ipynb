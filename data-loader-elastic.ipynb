{
 "cells": [
  {
   "cell_type": "code",
   "execution_count": 2,
   "metadata": {},
   "outputs": [
    {
     "name": "stdout",
     "output_type": "stream",
     "text": [
      "2023-11-09 09:31:36,344 - numexpr.utils - INFO - Note: NumExpr detected 10 cores but \"NUMEXPR_MAX_THREADS\" not set, so enforcing safe limit of 8.\n",
      "2023-11-09 09:31:36,344 - numexpr.utils - INFO - NumExpr defaulting to 8 threads.\n"
     ]
    }
   ],
   "source": [
    "from dotenv import load_dotenv\n",
    "from elasticsearch import Elasticsearch\n",
    "from elasticsearch.helpers import bulk\n",
    "from langchain.document_loaders import DataFrameLoader\n",
    "from langchain.text_splitter import RecursiveCharacterTextSplitter\n",
    "import loggingService\n",
    "import os\n",
    "import pandas as pd\n",
    "import requests\n",
    "from sentence_transformers import SentenceTransformer\n",
    "\n",
    "load_dotenv()\n",
    "logger = loggingService.get_logger()\n"
   ]
  },
  {
   "cell_type": "code",
   "execution_count": 3,
   "metadata": {},
   "outputs": [],
   "source": [
    "# Declare a client instance of the Python Elasticsearch library.\n",
    "elastic_url = os.getenv(\"ELASTICSEARCH_URL\", \"http://127.0.0.1:9200\")\n",
    "index_name = os.getenv(\"INDEX_NAME\", 'vector_index')\n",
    "model_name_embedding = os.getenv(\"MODEL_NAME_EMBEDDING\", 'sentence-transformers/gtr-t5-large')\n",
    "path = os.getenv(\"DATA_PATH\", 'data')\n",
    "\n",
    "api_url = f\"{elastic_url}/{index_name}/\"\n",
    "client = Elasticsearch(hosts=[elastic_url])\n",
    "embeddings_model = SentenceTransformer(model_name_embedding)\n",
    "embeddings = []\n",
    "pages = []\n",
    "text_splitter = RecursiveCharacterTextSplitter(chunk_size = 768, chunk_overlap = 20)\n",
    "documents = []\n"
   ]
  },
  {
   "cell_type": "code",
   "execution_count": 4,
   "metadata": {},
   "outputs": [],
   "source": [
    "df = pd.read_csv(f'{path}/listaPlanosTIMPrd.csv', index_col=0)\n",
    "df.head()\n",
    "\n",
    "df.drop(['updatedBy', 'createdBy', 'createdAt', 'updatedAt', 'renewalText'], axis='columns', inplace=True)\n",
    "df = df.fillna(0)\n",
    "df = df.astype(str)\n",
    "# df.to_csv('./data/planosTIMClean.csv')\n",
    "df['text'] = df['plan'] + ' ' + df['description'] + ' ' + df['dataFranchise'] + ' ' + df['voiceFranchise'] + ' ' + df['smsFranchise'] + ' ' + df['socialNetworkFranchise'] + ' ' + df['mecanism'] + ' ' + df['roamingInternacional'] + ' ' + 'Valor: ' + df['planValues'] \n",
    "\n",
    "df.head()\n",
    "df.describe()\n",
    "\n",
    "loader = DataFrameLoader(df, page_content_column=\"text\")\n",
    "documents = loader.load_and_split(text_splitter=text_splitter)\n"
   ]
  },
  {
   "cell_type": "code",
   "execution_count": 16,
   "metadata": {},
   "outputs": [
    {
     "data": {
      "text/plain": [
       "Index(['commercialCode', 'plan', 'description', 'dataFranchise',\n",
       "       'voiceFranchise', 'smsFranchise', 'socialNetworkFranchise', 'mecanism',\n",
       "       'segment', 'upsellDescription', 'planValues', 'status',\n",
       "       'roamingInternacional', 'text'],\n",
       "      dtype='object')"
      ]
     },
     "execution_count": 16,
     "metadata": {},
     "output_type": "execute_result"
    }
   ],
   "source": [
    "# print(documents[0])\n",
    "df.columns\n"
   ]
  },
  {
   "cell_type": "code",
   "execution_count": 6,
   "metadata": {},
   "outputs": [],
   "source": [
    "def csv_text_splitter(pdf_text) -> str:\n",
    "  text = getattr(pdf_text, 'page_content', '')\n",
    "  metadata = getattr(pdf_text, 'metadata', {})\n",
    "  \n",
    "  return {'text': text, 'metadata': metadata}\n",
    "\n",
    "for doc in documents:\n",
    "  logger.debug(csv_text_splitter(doc))\n",
    "  pages.append(csv_text_splitter(doc))"
   ]
  },
  {
   "cell_type": "code",
   "execution_count": 7,
   "metadata": {},
   "outputs": [
    {
     "name": "stdout",
     "output_type": "stream",
     "text": [
      "{'text': 'TIM CONTROLE GIGA C PROMO Com o plano, TIM Controle, GIGA C,PROMO . Você tem ligações ilimitadas,para qualquer operadora usando, o 41e ainda pode enviar SMS ilimitado.  E usar os aplicativos: WhatsApp, Messenger e Telegram ,sem descontar nada da sua franquia de dados. Além de ter, 4.5 Giga de internet para usar como quiser. Contando com o seu plano, e com seus pacotes de internet, você tem #totalDados#, no total. E ainda tem disponível #totalDisponivel# de Internet pra usar como quiser! Com o seu plano, você tem ligações ilimitadas para qualquer operadora, usando o 41. Você tem, SMS ilimitado para TIM, e para outras operadoras. Com o seu plano, você tem o aplicativo Waze para usar à vontade.  Além do Messenger, Telegram, e WhatsApp, para enviar e receber', 'metadata': {'commercialCode': 'PLN586', 'plan': 'TIM CONTROLE GIGA C PROMO', 'description': 'Com o plano, TIM Controle, GIGA C,PROMO . Você tem ligações ilimitadas,para qualquer operadora usando, o 41e ainda pode enviar SMS ilimitado.  E usar os aplicativos: WhatsApp, Messenger e Telegram ,sem descontar nada da sua franquia de dados. Além de ter, 4.5 Giga de internet para usar como quiser.', 'dataFranchise': 'Contando com o seu plano, e com seus pacotes de internet, você tem #totalDados#, no total. E ainda tem disponível #totalDisponivel# de Internet pra usar como quiser!', 'voiceFranchise': 'Com o seu plano, você tem ligações ilimitadas para qualquer operadora, usando o 41.', 'smsFranchise': 'Você tem, SMS ilimitado para TIM, e para outras operadoras.', 'socialNetworkFranchise': 'Com o seu plano, você tem o aplicativo Waze para usar à vontade.  Além do Messenger, Telegram, e WhatsApp, para enviar e receber mensagens sem descontar da sua franquia de dados.  E tem mais! Você também conta com TIM Music. TIM protect bé cá pi 5 giga, e TIM banca virtual, incluídos.', 'mecanism': '0', 'segment': 'Controle', 'upsellDescription': 'TIM Controle, GIGA C,PROMO. Com ele, Você pode fazer, ligações ilimitadas, para qualquer operadora usando, o 41e, pode enviar SMS ilimitado.  E ainda usar os aplicativos: WhatsApp, Messenger e Telegram ,sem descontar nada da sua franquia de dados. Além de ter, 4.5GB de internet para usar como quiser.', 'planValues': '0', 'status': '0', 'roamingInternacional': '0'}}\n",
      "569\n"
     ]
    }
   ],
   "source": [
    "print(pages[0])\n",
    "print(len(pages))"
   ]
  },
  {
   "cell_type": "code",
   "execution_count": 8,
   "metadata": {},
   "outputs": [],
   "source": [
    "def create_schema():\n",
    "    schema = {\n",
    "        \"mappings\": {\n",
    "            \"properties\": {\n",
    "                \"embedding\": {\n",
    "                    \"type\": \"dense_vector\",\n",
    "                    \"dims\": 1024,\n",
    "                    \"index\": True,\n",
    "                    \"similarity\": \"cosine\"\n",
    "                },\n",
    "                \"commercialCode\": {\"type\": \"text\"}, \n",
    "                \"plan\": {\"type\": \"text\"},\n",
    "                \"description\": {\"type\": \"text\"},\n",
    "                \"dataFranchise\": {\"type\": \"text\"},\n",
    "                \"voiceFranchise\": {\"type\": \"text\"},\n",
    "                \"smsFranchise\": {\"type\": \"text\"},\n",
    "                \"socialNetworkFranchise\": {\"type\": \"text\"},\n",
    "                \"mecanism\": {\"type\": \"text\"},\n",
    "                \"segment\": {\"type\": \"text\"},\n",
    "                \"upsellDescription\": {\"type\": \"text\"},\n",
    "                \"planValues\": {\"type\": \"text\"},\n",
    "                \"status\": {\"type\": \"text\"},\n",
    "                \"roamingInternacional\": {\"type\": \"text\"},\n",
    "                \"text\": {\"type\": \"text\"}\n",
    "            }\n",
    "        }\n",
    "    }\n",
    "\n",
    "    response = requests.put(api_url, json=schema)\n",
    "\n",
    "    logger.info(response.json())\n",
    "    logger.info(response.status_code)\n",
    "    \n",
    "def delete_schema():\n",
    "    response = requests.delete(f\"{elastic_url}/{index_name}/\")\n",
    "\n",
    "    logger.info(response.json())\n",
    "    logger.info(response.status_code)\n"
   ]
  },
  {
   "cell_type": "code",
   "execution_count": 9,
   "metadata": {},
   "outputs": [],
   "source": [
    "def get_embedding(sentence: str,):\n",
    "  \"\"\"_summary_\n",
    "\n",
    "  Args:\n",
    "      sentence (str): texto para gerar os embeddings\n",
    "\n",
    "  Returns:\n",
    "      _type_: List[Tensor] | ndarray | Tensor\n",
    "  \"\"\"\n",
    "  embeddings = embeddings_model.encode(sentence)\n",
    "  \n",
    "  return embeddings\n"
   ]
  },
  {
   "cell_type": "code",
   "execution_count": 10,
   "metadata": {},
   "outputs": [],
   "source": [
    "def load_data():\n",
    "    BATCH_SIZE = 1000\n",
    "\n",
    "    documents_to_index = []\n",
    "    index = 0\n",
    "\n",
    "    for document in pages:\n",
    "        logger.info(f\"importing question: {index+1}\")\n",
    "    \n",
    "        document = {\n",
    "            \"_id\": str(index),\n",
    "            \"text\": document[\"text\"],\n",
    "            \"embedding\": get_embedding(document[\"text\"]),\n",
    "            \"commercialCode\": document[\"metadata\"][\"commercialCode\"],\n",
    "            \"plan\": document[\"metadata\"][\"plan\"],\n",
    "            \"description\": document[\"metadata\"][\"description\"],\n",
    "            \"dataFranchise\": document[\"metadata\"][\"dataFranchise\"],\n",
    "            \"voiceFranchise\": document[\"metadata\"][\"voiceFranchise\"],\n",
    "            \"smsFranchise\": document[\"metadata\"][\"smsFranchise\"],\n",
    "            \"socialNetworkFranchise\": document[\"metadata\"][\"socialNetworkFranchise\"],\n",
    "            \"mecanism\": document[\"metadata\"][\"mecanism\"],\n",
    "            \"segment\": document[\"metadata\"][\"segment\"],\n",
    "            \"upsellDescription\": document[\"metadata\"][\"upsellDescription\"],\n",
    "            \"planValues\": document[\"metadata\"][\"planValues\"],\n",
    "            \"status\": document[\"metadata\"][\"status\"],\n",
    "            \"roamingInternacional\": document[\"metadata\"][\"roamingInternacional\"],\n",
    "        }\n",
    "        \n",
    "        documents_to_index.append(document)\n",
    "        index += 1\n",
    "\n",
    "        # To index batches of documents at a time.\n",
    "        if index % BATCH_SIZE == 0 and index != 0:\n",
    "            # How you'd index data to Elastic.\n",
    "            indexing = bulk(client, documents_to_index, index=index_name)\n",
    "            documents_to_index = []\n",
    "            logger.info(\"Success - %s , Failed - %s\" % (indexing[0], len(indexing[1])))\n",
    "        \n",
    "        # To index the rest, when 'documents' list < BATCH_SIZE.\n",
    "        if documents_to_index:\n",
    "            bulk(client, documents_to_index, index=index_name)\n",
    "        \n",
    "        logger.info(\"Finished\")\n",
    "        \n"
   ]
  },
  {
   "cell_type": "code",
   "execution_count": 11,
   "metadata": {},
   "outputs": [],
   "source": [
    "# create_schema()\n"
   ]
  },
  {
   "cell_type": "code",
   "execution_count": 18,
   "metadata": {},
   "outputs": [
    {
     "data": {
      "application/vnd.jupyter.widget-view+json": {
       "model_id": "535610f006e14a68855b327a598b8180",
       "version_major": 2,
       "version_minor": 0
      },
      "text/plain": [
       "Batches:   0%|          | 0/1 [00:00<?, ?it/s]"
      ]
     },
     "metadata": {},
     "output_type": "display_data"
    },
    {
     "name": "stdout",
     "output_type": "stream",
     "text": [
      "Got 4 Hits:\n",
      "Pré da Tim C Promoção, Pré da TIM, C. sua recarga é transformada automaticamente em benefícios, como dados, Ligações, SMS, Whatsapp, e Messenger, ilimitado. A validade, e o tamanho do pacote de dados, dependem do valor da sua recarga. Olha, você tem disponível #totalDisponivel#, contando com os seus benefícios e bônus, para utilizar como quiser!\\nLembrando que, o seu saldo pode ser alterado de acordo com o seu consumo. com a validade dos seus bônus. e com a validade dos seus benefícios. Você pode acompanhar o consumo detalhado, no aplicativo, Meu Tim. Durante o período de validade dos seus benefícios, você pode fazer ligações ilimitadas para qualquer operadora, usando o 41. Nessa promoção, você tem, SMS ilimitado para TIM, ou qualquer outra operadora,\n",
      "TIM, Pré Tópe, Classic 3.0 TIM, Pré Tópe clássic, 3.0! Nela, sua recarga é transformada automaticamente em benefícios. Você tem: assinatura do Prime Video versão celular, vantagens exclusivas no TIM, Mais Vantagens, além de mensagens ilimitadas no WhatsApp e ligações à vontade para qualquer operadora usando o DDD 41! A validade, e o tamanho do pacote de dados, dependem do valor da sua recarga. Quanto mais recarregar, mais internet você ganha! Aproveite! Olha, você tem disponível #totalDisponivel#, contando com os seus benefícios e bônus, para utilizar como quiser!\\nLembrando que, o seu saldo pode ser alterado de acordo com o seu consumo. com a validade dos seus bônus. e com a validade dos seus benefícios. Você pode acompanhar o consumo detalhado, no\n",
      "TIM, Pré Tópe, Classic 3.0 TIM, Pré Tópe clássic, 3.0! Nela, sua recarga é transformada automaticamente em benefícios. Você tem: assinatura do Prime Video versão celular, vantagens exclusivas no TIM, Mais Vantagens, além de mensagens ilimitadas no WhatsApp e ligações à vontade para qualquer operadora usando o DDD 41! A validade, e o tamanho do pacote de dados, dependem do valor da sua recarga. Quanto mais recarregar, mais internet você ganha! Aproveite! Olha, você tem disponível #totalDisponivel#, contando com os seus benefícios e bônus, para utilizar como quiser!\\nLembrando que, o seu saldo pode ser alterado de acordo com o seu consumo. com a validade dos seus bônus. e com a validade dos seus benefícios. Você pode acompanhar o consumo detalhado, no\n",
      "TIM, Pré Tópe 3.0 TIM, Pré Tópe, 3.0! Nela, sua recarga é transformada automaticamente em benefícios. Você tem: assinatura do Prime Video versão celular, vantagens exclusivas no TIM, Mais Vantagens, além de mensagens ilimitadas no WhatsApp e ligações à vontade para qualquer operadora usando o DDD 41! A validade, e o tamanho do pacote de dados, dependem do valor da sua recarga. Quanto mais recarregar, mais internet você ganha! Aproveite! Olha, você tem disponível #totalDisponivel#, contando com os seus benefícios e bônus, para utilizar como quiser!\\nLembrando que, o seu saldo pode ser alterado de acordo com o seu consumo. com a validade dos seus bônus. e com a validade dos seus benefícios. Você pode acompanhar o consumo detalhado, no aplicativo, Meu Tim.\n"
     ]
    }
   ],
   "source": [
    "# if __name__ == \"__main__\":\n",
    "  # load_data()\n",
    "query = {\n",
    "  \"field\": \"embedding\",\n",
    "  \"query_vector\": get_embedding(\"quais são as vantagens do plano TIM CONTROLE GIGA C PROMO\"),\n",
    "  \"k\": 4,\n",
    "  \"num_candidates\": 10,\n",
    "}\n",
    "source = ['commercialCode', 'plan', 'description', 'dataFranchise',\n",
    "       'voiceFranchise', 'smsFranchise', 'socialNetworkFranchise', 'mecanism',\n",
    "       'segment', 'upsellDescription', 'planValues', 'status',\n",
    "       'roamingInternacional', 'text']\n",
    "\n",
    "resp = client.search(index=index_name, knn=query, source=source)\n",
    "print(\"Got %d Hits:\" % resp[\"hits\"][\"total\"][\"value\"])\n",
    "for hit in resp[\"hits\"][\"hits\"]:\n",
    "    # print(\"%(timestamp)s %(author)s: %(text)s\" % hit[\"_source\"])\n",
    "    # print(hit.get('total'))\n",
    "    print(hit.get(\"_source\").get(\"text\"))"
   ]
  }
 ],
 "metadata": {
  "kernelspec": {
   "display_name": "ml",
   "language": "python",
   "name": "python3"
  },
  "language_info": {
   "codemirror_mode": {
    "name": "ipython",
    "version": 3
   },
   "file_extension": ".py",
   "mimetype": "text/x-python",
   "name": "python",
   "nbconvert_exporter": "python",
   "pygments_lexer": "ipython3",
   "version": "3.11.6"
  }
 },
 "nbformat": 4,
 "nbformat_minor": 2
}
