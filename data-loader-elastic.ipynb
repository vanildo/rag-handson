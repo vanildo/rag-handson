{
 "cells": [
  {
   "cell_type": "code",
   "execution_count": null,
   "metadata": {},
   "outputs": [],
   "source": [
    "from dotenv import load_dotenv\n",
    "from elasticsearch import Elasticsearch\n",
    "from langchain.document_loaders import DataFrameLoader\n",
    "import loggingService\n",
    "import os\n",
    "import pandas as pd\n",
    "import requests\n",
    "from sentence_transformers import SentenceTransformer\n",
    "\n",
    "load_dotenv()\n",
    "logger = loggingService.get_logger()\n"
   ]
  },
  {
   "cell_type": "code",
   "execution_count": null,
   "metadata": {},
   "outputs": [],
   "source": [
    "# Declare a client instance of the Python Elasticsearch library.\n",
    "elastic_url = os.getenv(\"ELASTICSEARCH_URL\", \"http://127.0.0.1:9200\")\n",
    "index_name = os.getenv(\"INDEX_NAME\", 'vector_index')\n",
    "api_url = f\"{elastic_url}/{index_name}/\"\n",
    "\n",
    "client = Elasticsearch(hosts=[elastic_url])\n"
   ]
  },
  {
   "cell_type": "code",
   "execution_count": 29,
   "metadata": {},
   "outputs": [],
   "source": [
    "df = pd.read_csv('./data/listaPlanosTIMPrd.csv', index_col=0)\n",
    "df.head()\n",
    "\n",
    "df.drop(['updatedBy', 'createdBy', 'createdAt', 'updatedAt', 'renewalText'], axis='columns', inplace=True)\n",
    "df = df.fillna(0)\n",
    "df = df.astype(str)\n",
    "# df.to_csv('./data/planosTIMClean.csv')\n",
    "#    'mecanism', 'roamingInternacional'\n",
    "df['text'] = df['plan'] + ' ' + df['description'] + ' ' + df['dataFranchise'] + ' ' + df['voiceFranchise'] + ' ' + df['smsFranchise'] + ' ' + df['socialNetworkFranchise'] + ' ' + df['mecanism'] + ' ' + df['roamingInternacional']\n",
    "\n",
    "df.head()\n",
    "df.describe()\n",
    "\n",
    "loader = DataFrameLoader(df, page_content_column=\"text\")\n",
    "data = loader.load()\n"
   ]
  },
  {
   "cell_type": "code",
   "execution_count": 33,
   "metadata": {},
   "outputs": [
    {
     "name": "stdout",
     "output_type": "stream",
     "text": [
      "page_content='TIM CONTROLE GIGA C PROMO Com o plano, TIM Controle, GIGA C,PROMO . Você tem ligações ilimitadas,para qualquer operadora usando, o 41e ainda pode enviar SMS ilimitado.  E usar os aplicativos: WhatsApp, Messenger e Telegram ,sem descontar nada da sua franquia de dados. Além de ter, 4.5 Giga de internet para usar como quiser. Contando com o seu plano, e com seus pacotes de internet, você tem #totalDados#, no total. E ainda tem disponível #totalDisponivel# de Internet pra usar como quiser! Com o seu plano, você tem ligações ilimitadas para qualquer operadora, usando o 41. Você tem, SMS ilimitado para TIM, e para outras operadoras. Com o seu plano, você tem o aplicativo Waze para usar à vontade.  Além do Messenger, Telegram, e WhatsApp, para enviar e receber mensagens sem descontar da sua franquia de dados.  E tem mais! Você também conta com TIM Music. TIM protect bé cá pi 5 giga, e TIM banca virtual, incluídos. 0 0' metadata={'commercialCode': 'PLN586', 'plan': 'TIM CONTROLE GIGA C PROMO', 'description': 'Com o plano, TIM Controle, GIGA C,PROMO . Você tem ligações ilimitadas,para qualquer operadora usando, o 41e ainda pode enviar SMS ilimitado.  E usar os aplicativos: WhatsApp, Messenger e Telegram ,sem descontar nada da sua franquia de dados. Além de ter, 4.5 Giga de internet para usar como quiser.', 'dataFranchise': 'Contando com o seu plano, e com seus pacotes de internet, você tem #totalDados#, no total. E ainda tem disponível #totalDisponivel# de Internet pra usar como quiser!', 'voiceFranchise': 'Com o seu plano, você tem ligações ilimitadas para qualquer operadora, usando o 41.', 'smsFranchise': 'Você tem, SMS ilimitado para TIM, e para outras operadoras.', 'socialNetworkFranchise': 'Com o seu plano, você tem o aplicativo Waze para usar à vontade.  Além do Messenger, Telegram, e WhatsApp, para enviar e receber mensagens sem descontar da sua franquia de dados.  E tem mais! Você também conta com TIM Music. TIM protect bé cá pi 5 giga, e TIM banca virtual, incluídos.', 'mecanism': '0', 'segment': 'Controle', 'upsellDescription': 'TIM Controle, GIGA C,PROMO. Com ele, Você pode fazer, ligações ilimitadas, para qualquer operadora usando, o 41e, pode enviar SMS ilimitado.  E ainda usar os aplicativos: WhatsApp, Messenger e Telegram ,sem descontar nada da sua franquia de dados. Além de ter, 4.5GB de internet para usar como quiser.', 'planValues': '0', 'status': '0', 'roamingInternacional': '0'}\n"
     ]
    },
    {
     "data": {
      "text/plain": [
       "Index(['commercialCode', 'plan', 'description', 'dataFranchise',\n",
       "       'voiceFranchise', 'smsFranchise', 'socialNetworkFranchise', 'mecanism',\n",
       "       'segment', 'upsellDescription', 'planValues', 'status',\n",
       "       'roamingInternacional', 'text'],\n",
       "      dtype='object')"
      ]
     },
     "execution_count": 33,
     "metadata": {},
     "output_type": "execute_result"
    }
   ],
   "source": [
    "print(data[0])\n",
    "df.columns"
   ]
  },
  {
   "cell_type": "code",
   "execution_count": 30,
   "metadata": {},
   "outputs": [],
   "source": [
    "def createSchema():\n",
    "    schema = {\n",
    "        \"mappings\": {\n",
    "            \"properties\": {\n",
    "                \"embedding\": {\n",
    "                    \"type\": \"dense_vector\",\n",
    "                    \"dims\": 1024,\n",
    "                    \"index\": True,\n",
    "                    \"similarity\": \"cosine\"\n",
    "                },\n",
    "                \"commercialCode\": {\"type\": \"text\"}, \n",
    "                \"plan\": {\"type\": \"text\"},\n",
    "                \"description\": {\"type\": \"text\"},\n",
    "                \"dataFranchise\": {\"type\": \"text\"},\n",
    "                \"voiceFranchise\": {\"type\": \"text\"},\n",
    "                \"smsFranchise\": {\"type\": \"text\"},\n",
    "                \"socialNetworkFranchise\": {\"type\": \"text\"},\n",
    "                \"mecanism\": {\"type\": \"text\"},\n",
    "                \"segment\": {\"type\": \"text\"},\n",
    "                \"upsellDescription\": {\"type\": \"text\"},\n",
    "                \"planValues\": {\"type\": \"text\"},\n",
    "                \"status\": {\"type\": \"text\"},\n",
    "                \"roamingInternacional\": {\"type\": \"text\"},\n",
    "                \"text\": {\"type\": \"text\"}\n",
    "            }\n",
    "        }\n",
    "    }\n",
    "\n",
    "    response = requests.put(api_url, json=schema)\n",
    "\n",
    "    logger.info(response.json())\n",
    "    logger.info(response.status_code)"
   ]
  }
 ],
 "metadata": {
  "kernelspec": {
   "display_name": "ml",
   "language": "python",
   "name": "python3"
  },
  "language_info": {
   "codemirror_mode": {
    "name": "ipython",
    "version": 3
   },
   "file_extension": ".py",
   "mimetype": "text/x-python",
   "name": "python",
   "nbconvert_exporter": "python",
   "pygments_lexer": "ipython3",
   "version": "3.11.6"
  }
 },
 "nbformat": 4,
 "nbformat_minor": 2
}
