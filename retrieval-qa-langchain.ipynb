{
 "cells": [
  {
   "cell_type": "code",
   "execution_count": 6,
   "metadata": {},
   "outputs": [],
   "source": [
    "from dotenv import load_dotenv\n",
    "import loggingService\n",
    "\n",
    "from genai.extensions.langchain import LangChainInterface\n",
    "from genai.model import Credentials, Model\n",
    "from genai.schemas import GenerateParams\n",
    "\n",
    "from langchain import PromptTemplate\n",
    "from langchain.chains import RetrievalQA\n",
    "from langchain.vectorstores import Weaviate\n",
    "\n",
    "import os\n",
    "from sentence_transformers import SentenceTransformer\n",
    "import weaviate\n",
    "\n",
    "load_dotenv()\n",
    "logger = loggingService.get_logger()\n"
   ]
  },
  {
   "cell_type": "code",
   "execution_count": 7,
   "metadata": {},
   "outputs": [],
   "source": [
    "api_key = os.getenv(\"GENAI_KEY\", None)\n",
    "api_endpoint = os.getenv(\"GENAI_API\", 'https://workbench-api.res.ibm.com/v1')\n",
    "class_name = os.getenv(\"WEVIATE_CLASS\", 'LivrosVectorizer')\n",
    "model_name = os.getenv('MODEL_NAME', 'bigscience/mt0-xxl')\n",
    "model_name_embedding = os.getenv(\"MODEL_NAME_EMBEDDING\", \"sentence-transformers/gtr-t5-large\")\n",
    "weaviate_url = os.getenv(\"WEAVIATE_URL\", 'http://127.0.0.1:8080')\n",
    "\n",
    "client = weaviate.Client(url=weaviate_url,)\n",
    "embeddings = SentenceTransformer(model_name_embedding)\n",
    "\n",
    "creds = Credentials(api_key, api_endpoint=api_endpoint)\n",
    "params = GenerateParams(\n",
    "    decoding_method=\"sample\",\n",
    "    max_new_tokens=100,\n",
    "    min_new_tokens=1,\n",
    "    stream=False,\n",
    "    temperature=0.5,\n",
    "    top_k=50,\n",
    "    top_p=1,\n",
    ").dict()  # Langchain uses dictionaries to pass kwargs\n",
    "llm = LangChainInterface(model=model_name, credentials=creds, params=params)\n",
    "vector_store = Weaviate(client=client, index_name=class_name, text_key='content')\n"
   ]
  },
  {
   "cell_type": "code",
   "execution_count": 3,
   "metadata": {},
   "outputs": [
    {
     "data": {
      "application/vnd.jupyter.widget-view+json": {
       "model_id": "3893136c9bc7483aad0d3df747eddf81",
       "version_major": 2,
       "version_minor": 0
      },
      "text/plain": [
       "Batches:   0%|          | 0/1 [00:00<?, ?it/s]"
      ]
     },
     "metadata": {},
     "output_type": "display_data"
    },
    {
     "ename": "ValueError",
     "evalue": "Error during query: [{'locations': [{'column': 6, 'line': 1}], 'message': \"explorer: get class: vector search: object vector search at index livrosvectorizer: shard livrosvectorizer_mChtM8yIWPzY: vector search: knn search: distance between entrypoint and query node: vector lengths don't match: 384 vs 768\", 'path': ['Get', 'LivrosVectorizer']}]",
     "output_type": "error",
     "traceback": [
      "\u001b[0;31m---------------------------------------------------------------------------\u001b[0m",
      "\u001b[0;31mValueError\u001b[0m                                Traceback (most recent call last)",
      "\u001b[1;32m/Users/vanildovanni/projetos/foundation-models/rag-handson/code/retrieval-qa-langchain.ipynb Cell 3\u001b[0m line \u001b[0;36m1\n\u001b[0;32m----> <a href='vscode-notebook-cell:/Users/vanildovanni/projetos/foundation-models/rag-handson/code/retrieval-qa-langchain.ipynb#W2sZmlsZQ%3D%3D?line=0'>1</a>\u001b[0m vector_store\u001b[39m.\u001b[39;49msimilarity_search_by_vector(embeddings\u001b[39m.\u001b[39;49mencode(\u001b[39m'\u001b[39;49m\u001b[39monde mora dom casmurro\u001b[39;49m\u001b[39m'\u001b[39;49m))\n",
      "File \u001b[0;32m~/miniconda3/envs/ml/lib/python3.9/site-packages/langchain/vectorstores/weaviate.py:237\u001b[0m, in \u001b[0;36mWeaviate.similarity_search_by_vector\u001b[0;34m(self, embedding, k, **kwargs)\u001b[0m\n\u001b[1;32m    235\u001b[0m result \u001b[39m=\u001b[39m query_obj\u001b[39m.\u001b[39mwith_near_vector(vector)\u001b[39m.\u001b[39mwith_limit(k)\u001b[39m.\u001b[39mdo()\n\u001b[1;32m    236\u001b[0m \u001b[39mif\u001b[39;00m \u001b[39m\"\u001b[39m\u001b[39merrors\u001b[39m\u001b[39m\"\u001b[39m \u001b[39min\u001b[39;00m result:\n\u001b[0;32m--> 237\u001b[0m     \u001b[39mraise\u001b[39;00m \u001b[39mValueError\u001b[39;00m(\u001b[39mf\u001b[39m\u001b[39m\"\u001b[39m\u001b[39mError during query: \u001b[39m\u001b[39m{\u001b[39;00mresult[\u001b[39m'\u001b[39m\u001b[39merrors\u001b[39m\u001b[39m'\u001b[39m]\u001b[39m}\u001b[39;00m\u001b[39m\"\u001b[39m)\n\u001b[1;32m    238\u001b[0m docs \u001b[39m=\u001b[39m []\n\u001b[1;32m    239\u001b[0m \u001b[39mfor\u001b[39;00m res \u001b[39min\u001b[39;00m result[\u001b[39m\"\u001b[39m\u001b[39mdata\u001b[39m\u001b[39m\"\u001b[39m][\u001b[39m\"\u001b[39m\u001b[39mGet\u001b[39m\u001b[39m\"\u001b[39m][\u001b[39mself\u001b[39m\u001b[39m.\u001b[39m_index_name]:\n",
      "\u001b[0;31mValueError\u001b[0m: Error during query: [{'locations': [{'column': 6, 'line': 1}], 'message': \"explorer: get class: vector search: object vector search at index livrosvectorizer: shard livrosvectorizer_mChtM8yIWPzY: vector search: knn search: distance between entrypoint and query node: vector lengths don't match: 384 vs 768\", 'path': ['Get', 'LivrosVectorizer']}]"
     ]
    }
   ],
   "source": [
    "vector_store.similarity_search_by_vector(embeddings.encode('onde mora dom casmurro'))\n",
    "# vector_store.similarity_search('onde mora dom casmurro')\n"
   ]
  },
  {
   "cell_type": "code",
   "execution_count": 4,
   "metadata": {},
   "outputs": [],
   "source": [
    "pt1 = \"\"\"Responda a pergunta a seguir de forma sucinta usando o contexto fornecido. Caso não tenha certeza da resposta siceramente diga que não possui informações suficientes sobre esse tema.\n",
    "\n",
    "{context}\n",
    "\n",
    "Pergunta: {question}\n",
    "Resposta:\"\"\"\n",
    "prompt = PromptTemplate(\n",
    "    input_variables=[\"context\", \"question\"],\n",
    "    template=pt1,\n",
    ")\n",
    "qa = RetrievalQA.from_chain_type(llm=llm, chain_type=\"stuff\", retriever=vector_store.as_retriever(), chain_type_kwargs={\"prompt\": prompt})\n"
   ]
  },
  {
   "cell_type": "code",
   "execution_count": 5,
   "metadata": {},
   "outputs": [
    {
     "data": {
      "text/plain": [
       "' na Rua de Mata-cavalos, onde morava sua mãe, D. Maria da Glória Fernandes Santiago.'"
      ]
     },
     "execution_count": 5,
     "metadata": {},
     "output_type": "execute_result"
    }
   ],
   "source": [
    "qa.run('onde morava brás cubas')"
   ]
  }
 ],
 "metadata": {
  "kernelspec": {
   "display_name": "ml",
   "language": "python",
   "name": "python3"
  },
  "language_info": {
   "codemirror_mode": {
    "name": "ipython",
    "version": 3
   },
   "file_extension": ".py",
   "mimetype": "text/x-python",
   "name": "python",
   "nbconvert_exporter": "python",
   "pygments_lexer": "ipython3",
   "version": "3.9.16"
  },
  "orig_nbformat": 4
 },
 "nbformat": 4,
 "nbformat_minor": 2
}
