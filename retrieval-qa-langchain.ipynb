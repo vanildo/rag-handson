{
 "cells": [
  {
   "cell_type": "code",
   "execution_count": 2,
   "metadata": {},
   "outputs": [],
   "source": [
    "from dotenv import load_dotenv\n",
    "import loggingService\n",
    "\n",
    "from genai.extensions.langchain import LangChainInterface\n",
    "from genai.model import Credentials, Model\n",
    "from genai.schemas import GenerateParams\n",
    "\n",
    "from langchain.memory import ConversationBufferMemory\n",
    "from langchain import PromptTemplate\n",
    "from langchain.chains import RetrievalQA, ConversationalRetrievalChain\n",
    "from langchain.vectorstores import Weaviate\n",
    "\n",
    "import os\n",
    "from sentence_transformers import SentenceTransformer\n",
    "import weaviate\n",
    "\n",
    "load_dotenv()\n",
    "logger = loggingService.get_logger()\n"
   ]
  },
  {
   "cell_type": "code",
   "execution_count": 3,
   "metadata": {},
   "outputs": [
    {
     "name": "stdout",
     "output_type": "stream",
     "text": [
      "API Key: pak-cHWs0qIzvsnI96qDydNytkNBaBXscYF0T3uPBR-2msE, API Endpoint: https://workbench-api.res.ibm.com\n",
      "'NoneType' object has no attribute 'cadam32bit_grad_fp32'\n"
     ]
    },
    {
     "name": "stderr",
     "output_type": "stream",
     "text": [
      "/Users/vanildovanni/miniconda3/envs/ml/lib/python3.9/site-packages/bitsandbytes/cextension.py:34: UserWarning: The installed version of bitsandbytes was compiled without GPU support. 8-bit optimizers, 8-bit multiplication, and GPU quantization are unavailable.\n",
      "  warn(\"The installed version of bitsandbytes was compiled without GPU support. \"\n",
      "/Users/vanildovanni/miniconda3/envs/ml/lib/python3.9/site-packages/torch/utils/tensorboard/__init__.py:4: DeprecationWarning: distutils Version classes are deprecated. Use packaging.version instead.\n",
      "  if not hasattr(tensorboard, \"__version__\") or LooseVersion(\n",
      "/Users/vanildovanni/miniconda3/envs/ml/lib/python3.9/site-packages/torch/utils/tensorboard/__init__.py:6: DeprecationWarning: distutils Version classes are deprecated. Use packaging.version instead.\n",
      "  ) < LooseVersion(\"1.15\"):\n"
     ]
    }
   ],
   "source": [
    "api_key = os.getenv(\"GENAI_KEY\", None)\n",
    "api_endpoint = os.getenv(\"GENAI_API\", 'https://workbench-api.res.ibm.com')\n",
    "# class_name = os.getenv(\"WEVIATE_CLASS\", 'LivrosVectorizer')\n",
    "print(f\"API Key: {api_key}, API Endpoint: {api_endpoint}\")\n",
    "class_name ='Livros'\n",
    "memory = ConversationBufferMemory(memory_key=\"chat_history\",input_key=\"question\", output_key='answer', return_messages=True)\n",
    "model_name = os.getenv('MODEL_NAME', 'bigscience/mt0-xxl')\n",
    "model_name_embedding = os.getenv(\"MODEL_NAME_EMBEDDING\", \"sentence-transformers/gtr-t5-large\")\n",
    "weaviate_url = os.getenv(\"WEAVIATE_URL\", 'http://127.0.0.1:8080')\n",
    "\n",
    "client = weaviate.Client(url=weaviate_url,)\n",
    "embeddings = SentenceTransformer(model_name_embedding)\n",
    "\n",
    "creds = Credentials(api_key, api_endpoint=api_endpoint)\n",
    "params = GenerateParams(\n",
    "    decoding_method=\"sample\",\n",
    "    max_new_tokens=100,\n",
    "    min_new_tokens=1,\n",
    "    stream=False,\n",
    "    temperature=0.5,\n",
    "    top_k=50,\n",
    "    top_p=1,\n",
    ").dict()  # Langchain uses dictionaries to pass kwargs\n",
    "\n",
    "llm = LangChainInterface(model=model_name, credentials=creds, params=params)\n",
    "vector_store = Weaviate(client=client, index_name='Livros', text_key='content')\n"
   ]
  },
  {
   "cell_type": "code",
   "execution_count": 4,
   "metadata": {},
   "outputs": [
    {
     "data": {
      "text/plain": [
       "[Document(page_content='\\xa0\\xa0\\xa0Ford ouviu um leve gemido. À luz do fósforo, viu umaforma pesada mexendo-se no chão. Rapidamente apagouo fósforo, pôs a mão no bolso, encontrou o que procuravae tirou-o do bolso. Abriu o pacote e sacudiu-o. Ajoelhou-se. A forma mexeu-se de novo. Ford Prefect disse:\\xa0 \\xa0 \\xa0 — Eu trouxe uns amendoins.\\xa0 \\xa0 \\xa0 Arthur Dent mexeu-se e gemeu de novo, produzindosons incoerentes.\\xa0 \\xa0 \\xa0 — Tome, coma um pouco — insistiu Ford, sacudindo opacote.\\xa0 \\xa0 \\xa0 — Se você nunca passou antes por um raio detransferência de matéria, você deve ter perdido sal eproteína. A cerveja que você tomou deve ter protegidoum pouco seu organismo.\\xa0 \\xa0 \\xa0 — Rrrrr... — disse Arthur Dent. Abriu os olhos. — Estáescuro.\\xa0 \\xa0 \\xa0 — É — disse Ford Prefect — , está escuro, sim.\\xa0 \\xa0 \\xa0 — Luz nenhuma — disse Arthur Dent. — Escuro,completamente. Uma das coisas que Ford Prefect jamaisconseguiu entender em relação aos seres humanos eraseu hábito de aﬁrmar e repetir continuamente o óbviomais óbvio, coisas do tipo Está um belo dia, ou Comovocê é alto, ou Ah, meu Deus, você caiu num poço dedez metros de profundidade, você está bem?. De início,Ford elaborou uma teoria para explicar esse estranhocomportamento. Se os seres humanos não ﬁcaremconstantemente utilizando seus lábios — pensou ele — ,eles grudam e não abrem mais. Após pensar e observarpor alguns meses, abandonou essa teoria em favor deoutra: se eles não ﬁcarem constantemente exercitandoseus lábios — pensou ele — , seus cérebros começam afuncionar. Depois de algum tempo, abandonou tambémesta teoria, por achá-la demasiadamente cínica, econcluiu que, na verdade, gostava muito dos sereshumanos. Contudo, sempre ﬁcava muitíssimo', metadata={}),\n",
       " Document(page_content='palavra amarelo vagou por sua mente, procurando algocom o que se associar.\\xa0\\xa0\\xa0Quinze segundos depois, Arthur estava fora da casa,deitado no chão, na frente de um trator grande eamarelo que avançava por cima de seu jardim.\\xa0\\xa0\\xa0O Sr. L. Prosser era, como dizem, apenas humano. Emoutras palavras, era uma forma de vida bípede baseadaem carbono e descendente de primatas. Para ser maisespecíﬁco, ele tinha 40 anos, era gordo e desleixado etrabalhava no conselho municipal. Curiosamente, emboraele desconhecesse este fato, era também descendentedireto, pela linhagem masculina, de Gengis Khan,embora a sucessão de gerações e a mestiçagemhouvessem misturado de tal modo sua carga genéticaque ele não possuía nenhuma característica mongol, e osúnicos vestígios daquele majestoso ancestral querestavam no Sr. L. Prosser eram uma barriga pronunciadae uma predileção por chapeuzinhos de pele.\\xa0\\xa0\\xa0Ele não era em absoluto um grande guerreiro: naverdade, era um homem nervoso e preocupado. Naqueledia estava particularmente nervoso e preocupado porquetivera um problema sério com seu trabalho, que consistiaem retirar a casa de Arthur Dent do caminho antes doﬁnal da tarde.\\xa0\\xa0\\xa0— Desista, Sr. Dent, o senhor sabe que é uma causaperdida. O senhor não vai conseguir ﬁcar deitado nafrente do trator o resto da vida. — Tentou assumir umolhar feroz, mas seus olhos não eram capazes disso.\\xa0\\xa0\\xa0Deitado na lama, Arthur respondeu:\\xa0\\xa0\\xa0— Está bem. Vamos ver quem é mais chato.\\xa0\\xa0\\xa0—Infelizmente, o senhor vai ter que aceitar — disse oSr. Prosser, rodando seu chapéu de pele no alto dacabeça. — Esse desvio tem que ser construído e vai serconstruído!\\xa0\\xa0\\xa0— Primeira vez que ouço falar nisso. Por que é que temque ser construído?', metadata={}),\n",
       " Document(page_content='\\xa0\\xa0\\xa0Arthur, lutando com seu terceiro caneco de chope,olhou ao redor.\\xa0\\xa0\\xa0— Uma toalha? Bem, não... por que, era pra eu ter? —Arthur havia desistido de sentir-se surpreso; pelo visto,não adiantava nada.\\xa0\\xa0\\xa0Ford estalou a língua, irritado.\\xa0\\xa0\\xa0— Beba — insistiu.\\xa0\\xa0\\xa0Naquele momento, o ruído surdo de alguma coisa seespatifando, vindo da rua, misturou-se ao murmúrio devozes dentro do bar, à música da jukebox e aos soluçosdo homem ao lado de Ford, para quem ele acabarapagando um uísque.\\xa0\\xa0\\xa0Arthur engasgou-se com a cerveja e pôs-se de pé numsalto.\\xa0\\xa0\\xa0— O que foi isso? — gritou.\\xa0\\xa0\\xa0— Não se preocupe — disse Ford. — Eles ainda nãocomeçaram.\\xa0\\xa0\\xa0— Ainda bem — disse Arthur, relaxando.\\xa0\\xa0\\xa0— Deve ser só a sua casa sendo demolida — disseFord, virando seu último chope.\\xa0\\xa0\\xa0— O quê? — berrou Arthur. De repente quebrou-se oencantamento que Ford lançara sobre ele. Arthur olhouao redor, desesperado, e correu até a janela. — MeuDeus, é isso mesmo! Estão derrubando a minha casa.Que diabo eu estou fazendo aqui neste bar, Ford?\\xa0\\xa0\\xa0— A essa altura do campeonato, não tem muitaimportância — disse Ford. — Deixe que eles se divirtam.\\xa0\\xa0\\xa0— Isso lá é diversão? — gritou Arthur. — Diversão!\\xa0\\xa0\\xa0Ele olhou de novo pela janela e constatou que ambosestavam falando sobre a mesma coisa.\\xa0\\xa0\\xa0— Diversão, o cacete! — berrou Arthur, e saiu correndodo bar furioso, brandindo uma caneca de chope quasevazia. Naquele dia, Arthur deﬁnitivamente não fezamigos no bar.\\xa0\\xa0\\xa0— Parem, seus vândalos! Destruidores de lares! —gritava Arthur. — Seus visigodos malucos, parem com', metadata={}),\n",
       " Document(page_content='aceitos como uma espécie evoluída e culta, mas agora sópersistiam por puro sadismo.\\xa0\\xa0\\xa0Ford Prefect suava frio, e o suor de sua testa molhavaos eletrodos aplicados a suas têmporas, os quaisestavam ligados a um complicado equipamentoeletrônico — intensiﬁcadores de imagens, moduladoresde ritmo, residuadores aliterativos e descarregadores desímiles. Tais aparelhos tinham o efeito de intensiﬁcar aexperiência poética e garantir que nenhuma nuança dopensamento do poeta passaria despercebida.\\xa0 \\xa0 \\xa0 Arthur Dent, sentado, tremia. Não fazia idéia do que oesperava, mas não tinha gostado de nada queacontecera até então, e não achava que viria coisamelhor.\\xa0 \\xa0 \\xa0 O vogon começou a ler — um trechinho nauseabundoque ele próprio havia cometido.\\xa0 \\xa0 \\xa0 — Ó fragúndio bugalhostro... — começou. O corpo deFord foi sacudido por espasmos; aquilo era bem pior doque esperava.\\xa0 \\xa0 \\xa0 — ...tua micturição é para mim/ Qual manchimucosnum lúrgido mastim. — Aaaaaaarggggghhhhh! — berrouFord Prefect, jogando a cabeça para trás, latejando dedor. Mal podia ver Arthur a seu lado, estrebuchando emsua cadeira. Ford rangeu os dentes.\\xa0 \\xa0 \\xa0 — Frêmeo impbchoro-o — prosseguiu o vogon,implacável — , ó meu perlíndromo exangue. — Levantoua voz num crescendo horrível de estridência apaixonada.— Adrede me não apagianaste a crímidos dessartes?/Ter-te-ei rabirrotos, raio que o parte!\\xa0 \\xa0 \\xa0 — NnnnnnnnnnyyyyyyuuuuuuurrrrrrggggghhhhhW —exclamou Ford Prefect, contorcido por um últimoespasmo quando a chave de ouro do poema golpeou-lheas têmporas, ainda mais com o reforço eletrônico. Ficoutodo mole.\\xa0 \\xa0 \\xa0 Arthur estrebuchava.', metadata={})]"
      ]
     },
     "execution_count": 4,
     "metadata": {},
     "output_type": "execute_result"
    }
   ],
   "source": [
    "# vector_store.similarity_search_by_vector(embeddings.encode('por que arthur dent foi despejado?'))\n",
    "vector_store.similarity_search('por que arthur dent foi despejado?')\n"
   ]
  },
  {
   "cell_type": "code",
   "execution_count": 5,
   "metadata": {},
   "outputs": [],
   "source": [
    "pt1 = \"\"\"Responda a pergunta a seguir de forma sucinta usando o contexto e histórico fornecidos. Caso não tenha certeza da resposta siceramente diga que não possui informações suficientes sobre esse tema.\n",
    "\n",
    "Contexto: {context}\n",
    "\n",
    "Histórico: {chat_history}\n",
    "\n",
    "Pergunta: {question}\n",
    "Resposta:\"\"\"\n",
    "prompt = PromptTemplate(\n",
    "    input_variables=[\"context\", \"question\", \"chat_history\"],\n",
    "    template=pt1,\n",
    ")\n",
    "\n",
    "retriver = vector_store.as_retriever(search_kwargs={'score_threshold': 0.8})\n",
    "# chain_type_kwargs={\"prompt\": prompt},\n",
    "qa = RetrievalQA.from_chain_type(llm=llm, chain_type=\"stuff\", retriever=retriver, memory=memory,  verbose=True)\n",
    "# qa = ConversationalRetrievalChain(llm=llm, retriever=retriver, memory=memory,  verbose=True, output_key='Resposta')\n"
   ]
  },
  {
   "cell_type": "code",
   "execution_count": 6,
   "metadata": {},
   "outputs": [
    {
     "name": "stdout",
     "output_type": "stream",
     "text": [
      "\n",
      "\n",
      "\u001b[1m> Entering new RetrievalQA chain...\u001b[0m\n",
      "\n",
      "\u001b[1m> Finished chain.\u001b[0m\n"
     ]
    },
    {
     "ename": "KeyError",
     "evalue": "'question'",
     "output_type": "error",
     "traceback": [
      "\u001b[0;31m---------------------------------------------------------------------------\u001b[0m",
      "\u001b[0;31mKeyError\u001b[0m                                  Traceback (most recent call last)",
      "\u001b[1;32m/Users/vanildovanni/projetos/foundation-models/rag-handson/code/retrieval-qa-langchain.ipynb Cell 5\u001b[0m line \u001b[0;36m1\n\u001b[0;32m----> <a href='vscode-notebook-cell:/Users/vanildovanni/projetos/foundation-models/rag-handson/code/retrieval-qa-langchain.ipynb#W4sZmlsZQ%3D%3D?line=0'>1</a>\u001b[0m qa\u001b[39m.\u001b[39;49mrun(\u001b[39m'\u001b[39;49m\u001b[39mpor que arthur dent foi despejado?\u001b[39;49m\u001b[39m'\u001b[39;49m)\n",
      "File \u001b[0;32m~/miniconda3/envs/ml/lib/python3.9/site-packages/langchain/chains/base.py:475\u001b[0m, in \u001b[0;36mChain.run\u001b[0;34m(self, callbacks, tags, metadata, *args, **kwargs)\u001b[0m\n\u001b[1;32m    473\u001b[0m     \u001b[39mif\u001b[39;00m \u001b[39mlen\u001b[39m(args) \u001b[39m!=\u001b[39m \u001b[39m1\u001b[39m:\n\u001b[1;32m    474\u001b[0m         \u001b[39mraise\u001b[39;00m \u001b[39mValueError\u001b[39;00m(\u001b[39m\"\u001b[39m\u001b[39m`run` supports only one positional argument.\u001b[39m\u001b[39m\"\u001b[39m)\n\u001b[0;32m--> 475\u001b[0m     \u001b[39mreturn\u001b[39;00m \u001b[39mself\u001b[39;49m(args[\u001b[39m0\u001b[39;49m], callbacks\u001b[39m=\u001b[39;49mcallbacks, tags\u001b[39m=\u001b[39;49mtags, metadata\u001b[39m=\u001b[39;49mmetadata)[\n\u001b[1;32m    476\u001b[0m         _output_key\n\u001b[1;32m    477\u001b[0m     ]\n\u001b[1;32m    479\u001b[0m \u001b[39mif\u001b[39;00m kwargs \u001b[39mand\u001b[39;00m \u001b[39mnot\u001b[39;00m args:\n\u001b[1;32m    480\u001b[0m     \u001b[39mreturn\u001b[39;00m \u001b[39mself\u001b[39m(kwargs, callbacks\u001b[39m=\u001b[39mcallbacks, tags\u001b[39m=\u001b[39mtags, metadata\u001b[39m=\u001b[39mmetadata)[\n\u001b[1;32m    481\u001b[0m         _output_key\n\u001b[1;32m    482\u001b[0m     ]\n",
      "File \u001b[0;32m~/miniconda3/envs/ml/lib/python3.9/site-packages/langchain/chains/base.py:284\u001b[0m, in \u001b[0;36mChain.__call__\u001b[0;34m(self, inputs, return_only_outputs, callbacks, tags, metadata, include_run_info)\u001b[0m\n\u001b[1;32m    282\u001b[0m     \u001b[39mraise\u001b[39;00m e\n\u001b[1;32m    283\u001b[0m run_manager\u001b[39m.\u001b[39mon_chain_end(outputs)\n\u001b[0;32m--> 284\u001b[0m final_outputs: Dict[\u001b[39mstr\u001b[39m, Any] \u001b[39m=\u001b[39m \u001b[39mself\u001b[39;49m\u001b[39m.\u001b[39;49mprep_outputs(\n\u001b[1;32m    285\u001b[0m     inputs, outputs, return_only_outputs\n\u001b[1;32m    286\u001b[0m )\n\u001b[1;32m    287\u001b[0m \u001b[39mif\u001b[39;00m include_run_info:\n\u001b[1;32m    288\u001b[0m     final_outputs[RUN_KEY] \u001b[39m=\u001b[39m RunInfo(run_id\u001b[39m=\u001b[39mrun_manager\u001b[39m.\u001b[39mrun_id)\n",
      "File \u001b[0;32m~/miniconda3/envs/ml/lib/python3.9/site-packages/langchain/chains/base.py:378\u001b[0m, in \u001b[0;36mChain.prep_outputs\u001b[0;34m(self, inputs, outputs, return_only_outputs)\u001b[0m\n\u001b[1;32m    376\u001b[0m \u001b[39mself\u001b[39m\u001b[39m.\u001b[39m_validate_outputs(outputs)\n\u001b[1;32m    377\u001b[0m \u001b[39mif\u001b[39;00m \u001b[39mself\u001b[39m\u001b[39m.\u001b[39mmemory \u001b[39mis\u001b[39;00m \u001b[39mnot\u001b[39;00m \u001b[39mNone\u001b[39;00m:\n\u001b[0;32m--> 378\u001b[0m     \u001b[39mself\u001b[39;49m\u001b[39m.\u001b[39;49mmemory\u001b[39m.\u001b[39;49msave_context(inputs, outputs)\n\u001b[1;32m    379\u001b[0m \u001b[39mif\u001b[39;00m return_only_outputs:\n\u001b[1;32m    380\u001b[0m     \u001b[39mreturn\u001b[39;00m outputs\n",
      "File \u001b[0;32m~/miniconda3/envs/ml/lib/python3.9/site-packages/langchain/memory/chat_memory.py:35\u001b[0m, in \u001b[0;36mBaseChatMemory.save_context\u001b[0;34m(self, inputs, outputs)\u001b[0m\n\u001b[1;32m     33\u001b[0m \u001b[39mdef\u001b[39;00m \u001b[39msave_context\u001b[39m(\u001b[39mself\u001b[39m, inputs: Dict[\u001b[39mstr\u001b[39m, Any], outputs: Dict[\u001b[39mstr\u001b[39m, \u001b[39mstr\u001b[39m]) \u001b[39m-\u001b[39m\u001b[39m>\u001b[39m \u001b[39mNone\u001b[39;00m:\n\u001b[1;32m     34\u001b[0m \u001b[39m    \u001b[39m\u001b[39m\"\"\"Save context from this conversation to buffer.\"\"\"\u001b[39;00m\n\u001b[0;32m---> 35\u001b[0m     input_str, output_str \u001b[39m=\u001b[39m \u001b[39mself\u001b[39;49m\u001b[39m.\u001b[39;49m_get_input_output(inputs, outputs)\n\u001b[1;32m     36\u001b[0m     \u001b[39mself\u001b[39m\u001b[39m.\u001b[39mchat_memory\u001b[39m.\u001b[39madd_user_message(input_str)\n\u001b[1;32m     37\u001b[0m     \u001b[39mself\u001b[39m\u001b[39m.\u001b[39mchat_memory\u001b[39m.\u001b[39madd_ai_message(output_str)\n",
      "File \u001b[0;32m~/miniconda3/envs/ml/lib/python3.9/site-packages/langchain/memory/chat_memory.py:31\u001b[0m, in \u001b[0;36mBaseChatMemory._get_input_output\u001b[0;34m(self, inputs, outputs)\u001b[0m\n\u001b[1;32m     29\u001b[0m \u001b[39melse\u001b[39;00m:\n\u001b[1;32m     30\u001b[0m     output_key \u001b[39m=\u001b[39m \u001b[39mself\u001b[39m\u001b[39m.\u001b[39moutput_key\n\u001b[0;32m---> 31\u001b[0m \u001b[39mreturn\u001b[39;00m inputs[prompt_input_key], outputs[output_key]\n",
      "\u001b[0;31mKeyError\u001b[0m: 'question'"
     ]
    }
   ],
   "source": [
    "qa.run('por que arthur dent foi despejado?')"
   ]
  }
 ],
 "metadata": {
  "kernelspec": {
   "display_name": "ml",
   "language": "python",
   "name": "python3"
  },
  "language_info": {
   "codemirror_mode": {
    "name": "ipython",
    "version": 3
   },
   "file_extension": ".py",
   "mimetype": "text/x-python",
   "name": "python",
   "nbconvert_exporter": "python",
   "pygments_lexer": "ipython3",
   "version": "3.9.16"
  },
  "orig_nbformat": 4
 },
 "nbformat": 4,
 "nbformat_minor": 2
}
