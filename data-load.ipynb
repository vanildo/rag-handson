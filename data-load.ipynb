{
 "cells": [
  {
   "cell_type": "code",
   "execution_count": 1,
   "metadata": {},
   "outputs": [
    {
     "name": "stderr",
     "output_type": "stream",
     "text": [
      "/Users/vanildovanni/miniconda3/envs/ml/lib/python3.9/site-packages/bitsandbytes/cextension.py:34: UserWarning: The installed version of bitsandbytes was compiled without GPU support. 8-bit optimizers, 8-bit multiplication, and GPU quantization are unavailable.\n",
      "  warn(\"The installed version of bitsandbytes was compiled without GPU support. \"\n",
      "/Users/vanildovanni/miniconda3/envs/ml/lib/python3.9/site-packages/torch/utils/tensorboard/__init__.py:4: DeprecationWarning: distutils Version classes are deprecated. Use packaging.version instead.\n",
      "  if not hasattr(tensorboard, \"__version__\") or LooseVersion(\n",
      "/Users/vanildovanni/miniconda3/envs/ml/lib/python3.9/site-packages/torch/utils/tensorboard/__init__.py:6: DeprecationWarning: distutils Version classes are deprecated. Use packaging.version instead.\n",
      "  ) < LooseVersion(\"1.15\"):\n"
     ]
    },
    {
     "name": "stdout",
     "output_type": "stream",
     "text": [
      "'NoneType' object has no attribute 'cadam32bit_grad_fp32'\n",
      "sentence-transformers/gtr-t5-large\n",
      "2023-09-26 11:23:54,952 - numexpr.utils - INFO - Note: NumExpr detected 10 cores but \"NUMEXPR_MAX_THREADS\" not set, so enforcing safe limit of 8.\n",
      "2023-09-26 11:23:54,952 - numexpr.utils - INFO - NumExpr defaulting to 8 threads.\n"
     ]
    }
   ],
   "source": [
    "from dotenv import load_dotenv\n",
    "from conversationService import get_embedding\n",
    "from langchain.document_loaders import PyPDFDirectoryLoader\n",
    "from langchain.text_splitter import RecursiveCharacterTextSplitter\n",
    "import loggingService\n",
    "import os\n",
    "import weaviate\n",
    "\n",
    "load_dotenv()\n",
    "logger = loggingService.get_logger()\n"
   ]
  },
  {
   "cell_type": "code",
   "execution_count": 2,
   "metadata": {},
   "outputs": [
    {
     "name": "stdout",
     "output_type": "stream",
     "text": [
      "2199\n",
      "page_content='Memórias Póstumas de Brás Cubas, Machado de Assis \\n \\nFonte: \\nAssis, Machado de. Obra Completa. vol. I. Rio de Janeiro: Nova Aguilar, 1994. \\n \\nTexto proveniente de: \\nA Biblioteca Virtual do Estudante Brasileiro <http://www.bibvirt.futuro.usp.br> \\nA Escola do Futuro da Universidade de São Paulo \\nPermitido o uso apenas para fins educacionais. \\n \\nTexto-base digitalizado por: \\nNúcleo de Pesquisas em Informática, Literatura e Lingüística \\n<http://www.cce.ufsc.br/~nupill/literatura/literat.html> \\n \\nEste material pode ser redistribuído livremente, desde que não seja alterado, e que as informações \\nacima sejam mantidas. Para maiores informações, escreva para <bibvirt@futuro.usp.br>. \\n \\nEstamos em busca de patrocinadores e voluntários para nos ajudar a manter este projeto. Se você \\nquer ajudar de alguma forma, mande um e-mail para <bibvirt@futuro.usp.br> e saiba como isso é \\npossível. \\n \\n \\n \\nMEMÓRIAS PÓSTUMAS DE BRÁS CUBAS \\nMACHADO DE ASSIS \\n \\n \\n           AO VERME \\n \\n             QUE' metadata={'source': 'data/bv000215.pdf', 'page': 0}\n"
     ]
    }
   ],
   "source": [
    "apikey = os.getenv(\"GEANAI_KEY\", None)\n",
    "class_name = os.getenv(\"WEVIATE_CLASS\", 'Livros')\n",
    "path = os.getenv(\"DATA_PATH\", \"data\")\n",
    "weaviate_url = os.getenv(\"WEAVIATE_URL\", 'http://127.0.0.1:8080')\n",
    "\n",
    "client = weaviate.Client(\n",
    "    url=weaviate_url,\n",
    ")\n",
    "\n",
    "pages = []\n",
    "pdf_loader = PyPDFDirectoryLoader(path)\n",
    "text_splitter = RecursiveCharacterTextSplitter(chunk_size=1000, chunk_overlap=50, separators=[\"\\n\\n\", \"\\n\", \" \", \"\", \"\\n \\n\", \"\\n \\n \\n\",\"\\n\\n\\n\"])\n",
    "documents = pdf_loader.load_and_split(text_splitter=text_splitter)\n",
    "print(len(documents))\n",
    "print(documents[0])"
   ]
  },
  {
   "cell_type": "code",
   "execution_count": null,
   "metadata": {},
   "outputs": [],
   "source": [
    "def pdf_text_splitter(pdf_text) -> dict:\n",
    "  retorno = {'content': '', 'source': '', 'page': 0}\n",
    "  \n",
    "  retorno['content'] = getattr(pdf_text, 'page_content')\n",
    "  retorno['souce'] = getattr(pdf_text, 'metadata')['source']\n",
    "  retorno['page'] = getattr(pdf_text, 'metadata')['page']\n",
    "  \n",
    "  return retorno\n",
    "\n",
    "for doc in documents:\n",
    "  # logger.debug(pdf_text_splitter(doc))\n",
    "  # print(pdf_text_splitter(doc))\n",
    "  pages.append(pdf_text_splitter(doc))\n",
    "  \n",
    "print(pages[0])"
   ]
  },
  {
   "cell_type": "code",
   "execution_count": null,
   "metadata": {},
   "outputs": [],
   "source": [
    "class_document =  {\n",
    "  \"class\": \"Livros\",\n",
    "  \"description\": \"Dados do documento PDF\",\n",
    "  \"moduleConfig\": {\n",
    "    \"text2vec-transformers\": {\n",
    "      \"poolingStrategy\": \"masked_mean\",\n",
    "      \"vectorizeClassName\": False\n",
    "    }\n",
    "  },\n",
    "  \"properties\": [\n",
    "    {\n",
    "      \"dataType\": [\n",
    "        \"text\"\n",
    "      ],\n",
    "      \"description\": \"Conteúdo do documento PDF\",\n",
    "      \"moduleConfig\": {\n",
    "        \"text2vec-transformers\": {\n",
    "          \"skip\": False,\n",
    "          \"vectorizePropertyName\": False\n",
    "        }\n",
    "      },\n",
    "      \"name\": \"content\"\n",
    "    },\n",
    "    {\n",
    "      \"dataType\": [\n",
    "        \"text\"\n",
    "      ],\n",
    "      \"description\": \"\",\n",
    "      \"moduleConfig\": {\n",
    "        \"text2vec-transformers\": {\n",
    "          \"skip\": False,\n",
    "          \"vectorizePropertyName\": False\n",
    "        }\n",
    "      },\n",
    "      \"name\": \"source\"\n",
    "    },\n",
    "    {\n",
    "      \"dataType\": [\n",
    "        \"text\"\n",
    "      ],\n",
    "      \"description\": \"\",\n",
    "      \"moduleConfig\": {\n",
    "        \"text2vec-transformers\": {\n",
    "          \"skip\": False,\n",
    "          \"vectorizePropertyName\": False\n",
    "        }\n",
    "      },\n",
    "      \"name\": \"page\"\n",
    "    }\n",
    "  ],\n",
    "  \"vectorizer\": \"none\"\n",
    "}\n",
    "\n",
    "client.schema.create_class(class_document)\n",
    "# client.schema.property.create(class_name, {\n",
    "#     'name': 'exemplar',\n",
    "#     'dataType': ['text'],\n",
    "# })\n",
    "\n",
    "# client.schema.delete_class('Livros')\n",
    "client.schema.get(\"Livros\")"
   ]
  },
  {
   "cell_type": "code",
   "execution_count": null,
   "metadata": {},
   "outputs": [],
   "source": [
    "with client.batch as batch:\n",
    "  batch.batch_size=100\n",
    "  i = 0\n",
    "    \n",
    "  for page in pages:\n",
    "    logger.info(f\"importing question: {i+1}\")\n",
    "    i = i+1\n",
    "    \n",
    "    properties = {\n",
    "            \"content\": page[\"content\"],\n",
    "            \"page\": str(page[\"page\"]),\n",
    "            \"source\": page[\"source\"],\n",
    "        }\n",
    "    \n",
    "    vector = get_embedding(page[\"content\"])\n",
    "\n",
    "    client.batch.add_data_object(properties, 'Livros', vector=vector)"
   ]
  },
  {
   "cell_type": "code",
   "execution_count": 3,
   "metadata": {},
   "outputs": [
    {
     "data": {
      "application/vnd.jupyter.widget-view+json": {
       "model_id": "deee36a2735747809102d21008fc5f4e",
       "version_major": 2,
       "version_minor": 0
      },
      "text/plain": [
       "Batches:   0%|          | 0/1 [00:00<?, ?it/s]"
      ]
     },
     "metadata": {},
     "output_type": "display_data"
    },
    {
     "name": "stdout",
     "output_type": "stream",
     "text": [
      "[{'_additional': {'certainty': 0.881557047367096, 'distance': 0.2368859}, 'content': 'pegou. N em por i sso me zangue i. Cont ei a anedota aos amigos da cidade, e eles, por gra ça, \\nchamam-me assim, alguns  em bilhetes: \"Dom Casmurro, dom ingo vou j antar com você.\"--\"V ou \\npara Petrópol is, Dom Casmurro;  a casa é a mesma da Renania; vê se deixas essa caverna do \\nEngenho N ovo, e  vai lá passar uns  quinze dias comigo.\"--\"M eu caro Dom Casmurro, nã o cuide que \\no dispenso do t eatro amanhã; venha e dorm irá aqui na cidade; dou-l he camarote, dou-l he chá, dou-\\nlhe cama; só não lhe dou m oça.\" \\nNão consultes dicionários. Casmurro nã o está aqui no s entido que  eles lhe dão, mas no que  lhe pôs \\no vul go de  hom em calado e metido consigo. D om veio por i ronia, para atribuir-me fumos de \\nfidalgo. T udo por e star cochilando! T ambém não achei melhor título para a minha narração - se não \\ntiver outro da qui até ao fim do livro, va i este mesmo. O meu poe ta do trem ficará sabendo que  não', 'page': '0', 'source': ''}, {'_additional': {'certainty': 0.881557047367096, 'distance': 0.2368859}, 'content': 'pegou. N em por i sso me zangue i. Cont ei a anedota aos amigos da cidade, e eles, por gra ça, \\nchamam-me assim, alguns  em bilhetes: \"Dom Casmurro, dom ingo vou j antar com você.\"--\"V ou \\npara Petrópol is, Dom Casmurro;  a casa é a mesma da Renania; vê se deixas essa caverna do \\nEngenho N ovo, e  vai lá passar uns  quinze dias comigo.\"--\"M eu caro Dom Casmurro, nã o cuide que \\no dispenso do t eatro amanhã; venha e dorm irá aqui na cidade; dou-l he camarote, dou-l he chá, dou-\\nlhe cama; só não lhe dou m oça.\" \\nNão consultes dicionários. Casmurro nã o está aqui no s entido que  eles lhe dão, mas no que  lhe pôs \\no vul go de  hom em calado e metido consigo. D om veio por i ronia, para atribuir-me fumos de \\nfidalgo. T udo por e star cochilando! T ambém não achei melhor título para a minha narração - se não \\ntiver outro da qui até ao fim do livro, va i este mesmo. O meu poe ta do trem ficará sabendo que  não', 'page': '0', 'source': ''}, {'_additional': {'certainty': 0.881430596113205, 'distance': 0.23713881}, 'content': 'pegou. N em por i sso me zangue i. Cont ei a anedota aos amigos da cidade, e eles, por gra ça, chamam-me assim, alguns  em bilhetes: \"Dom Casmurro, dom ingo vou j antar com você.\"--\"V ou para Petrópol is, Dom Casmurro;  a casa é a mesma da Renania; vê se deixas essa caverna do Engenho N ovo, e  vai lá passar uns  quinze dias comigo.\"--\"M eu caro Dom Casmurro, nã o cuide que o dispenso do t eatro amanhã; venha e dorm irá aqui na cidade; dou-l he camarote, dou-l he chá, dou-lhe cama; só não lhe dou m oça.\" Não consultes dicionários. Casmurro nã o está aqui no s entido que  eles lhe dão, mas no que  lhe pôs o vul go de  hom em calado e metido consigo. D om veio por i ronia, para atribuir-me fumos de fidalgo. T udo por e star cochilando! T ambém não achei melhor título para a minha narração - se não tiver outro da qui até ao fim do livro, va i este mesmo. O meu poe ta do trem ficará sabendo que  não', 'page': '0', 'source': ''}, {'_additional': {'certainty': 0.874519944190979, 'distance': 0.2509601}, 'content': 'que me fariam capaz de acabar casando c om ela se não fos se Capitu. M orreu pouc o depois. Eu, seduzido pe las palavras dele, estive quase a contar-lhe logo, l ogo, a  minha história. A princípio, fui tímido, m as ele fez-se entrado na  minha confiança. Aqueles modos  fugitivos, cessavam quando e le queria, e o meio e o tempo os  fizeram mais pous ados. Escobar veio abrindo a  alma toda, desde a porta da rua até o fundo do qui ntal. A alma da gente, como sabes, é uma casa assim disposta, não raro com janelas para todos  os lados, muita luz e ar puro. T ambém as há fechadas e escuras, sem janelas ou c om pouc as e gradeadas, à semelhança de conve ntos e prisões. Outrossim, capelas e bazares, simples alpendres ou pa ços suntuosos. Não sei o que  era a minha. Eu não era ainda casmurro, ne m dom  casmurro;  o receio é que me tolhia a franque za, mas como as portas não tinham chaves nem fechaduras, bastava empurrá -las, e', 'page': '45', 'source': ''}]\n"
     ]
    }
   ],
   "source": [
    "result = (client.query\n",
    ".get('Livros', [\"content\", \"source\", \"page\"])\n",
    ".with_additional([\"certainty\", \"distance\"]) # note that certainty is only supported if distance==cosine\n",
    ".with_near_vector({\n",
    "  \"vector\": get_embedding('o que significa casmurro'),\n",
    "  \"certainty\": 0.8\n",
    "})\n",
    ".with_limit(4)\n",
    ".do()\n",
    ")\n",
    "\n",
    "print(result['data']['Get'][class_name])\n",
    "\n",
    "retorno = ''\n",
    "if len(result['data']['Get'][class_name]) > 0:\n",
    "  retorno = result['data']['Get'][class_name][0]['content']\n",
    "\n",
    "  for contexto in result['data']['Get'][class_name][1:]:\n",
    "    retorno += f\"\\n{contexto['content']}\"\n",
    "\n",
    "logger.info(retorno)\n"
   ]
  }
 ],
 "metadata": {
  "kernelspec": {
   "display_name": "Python 3 (ipykernel)",
   "language": "python",
   "name": "python3"
  },
  "language_info": {
   "codemirror_mode": {
    "name": "ipython",
    "version": 3
   },
   "file_extension": ".py",
   "mimetype": "text/x-python",
   "name": "python",
   "nbconvert_exporter": "python",
   "pygments_lexer": "ipython3",
   "version": "3.9.16"
  }
 },
 "nbformat": 4,
 "nbformat_minor": 4
}
