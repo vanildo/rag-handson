{
 "cells": [
  {
   "cell_type": "code",
   "execution_count": null,
   "metadata": {},
   "outputs": [],
   "source": [
    "from dotenv import load_dotenv\n",
    "from langchain.document_loaders import PyPDFDirectoryLoader\n",
    "from langchain.text_splitter import RecursiveCharacterTextSplitter\n",
    "import loggingService\n",
    "import os\n",
    "from sentence_transformers import SentenceTransformer\n",
    "import weaviate\n",
    "\n",
    "load_dotenv()\n",
    "logger = loggingService.get_logger()\n"
   ]
  },
  {
   "cell_type": "code",
   "execution_count": null,
   "metadata": {},
   "outputs": [],
   "source": [
    "apikey = os.getenv(\"GEANAI_KEY\", None)\n",
    "class_name = os.getenv(\"WEVIATE_CLASS\", 'Document')\n",
    "path = os.getenv(\"DATA_PATH\", 'data')\n",
    "model_name = os.getenv(\"MODEL_NAME_EMBEDDING\", 'sentence-transformers/gtr-t5-large')\n",
    "\n",
    "client = weaviate.Client(\n",
    "    url=\"http://127.0.0.1:8080\",  # Replace with your endpoint\n",
    ")\n",
    "\n",
    "embeddings = []\n",
    "pages = []\n",
    "pdf_loader = PyPDFDirectoryLoader(path)\n",
    "text_splitter = RecursiveCharacterTextSplitter(chunk_size = 1000, chunk_overlap = 20)\n",
    "documents = pdf_loader.load_and_split(text_splitter=text_splitter)"
   ]
  },
  {
   "cell_type": "code",
   "execution_count": null,
   "metadata": {},
   "outputs": [],
   "source": []
  }
 ],
 "metadata": {
  "language_info": {
   "name": "python"
  },
  "orig_nbformat": 4
 },
 "nbformat": 4,
 "nbformat_minor": 2
}
