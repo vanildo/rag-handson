{
 "cells": [
  {
   "cell_type": "code",
   "execution_count": 2,
   "metadata": {},
   "outputs": [
    {
     "name": "stderr",
     "output_type": "stream",
     "text": [
      "/Users/vanildovanni/miniconda3/envs/ml/lib/python3.9/site-packages/bitsandbytes/cextension.py:34: UserWarning: The installed version of bitsandbytes was compiled without GPU support. 8-bit optimizers, 8-bit multiplication, and GPU quantization are unavailable.\n",
      "  warn(\"The installed version of bitsandbytes was compiled without GPU support. \"\n",
      "/Users/vanildovanni/miniconda3/envs/ml/lib/python3.9/site-packages/torch/utils/tensorboard/__init__.py:4: DeprecationWarning: distutils Version classes are deprecated. Use packaging.version instead.\n",
      "  if not hasattr(tensorboard, \"__version__\") or LooseVersion(\n",
      "/Users/vanildovanni/miniconda3/envs/ml/lib/python3.9/site-packages/torch/utils/tensorboard/__init__.py:6: DeprecationWarning: distutils Version classes are deprecated. Use packaging.version instead.\n",
      "  ) < LooseVersion(\"1.15\"):\n"
     ]
    },
    {
     "name": "stdout",
     "output_type": "stream",
     "text": [
      "'NoneType' object has no attribute 'cadam32bit_grad_fp32'\n",
      "rufimelo/bert-large-portuguese-cased-sts\n"
     ]
    },
    {
     "name": "stderr",
     "output_type": "stream",
     "text": [
      "/Users/vanildovanni/miniconda3/envs/ml/lib/python3.9/site-packages/genai/credentials.py:31: DeprecationWarning: The 'api_endpoint' property should not contain any explicit API version(rename it from 'https://workbench-api.res.ibm.com/v1' to just 'https://workbench-api.res.ibm.com')\n",
      "  warn(\n"
     ]
    },
    {
     "name": "stdout",
     "output_type": "stream",
     "text": [
      "2023-09-29 11:16:56,319 - numexpr.utils - INFO - Note: NumExpr detected 10 cores but \"NUMEXPR_MAX_THREADS\" not set, so enforcing safe limit of 8.\n",
      "2023-09-29 11:16:56,319 - numexpr.utils - INFO - NumExpr defaulting to 8 threads.\n"
     ]
    }
   ],
   "source": [
    "from dotenv import load_dotenv\n",
    "from conversationService import get_embedding\n",
    "from langchain.document_loaders import PyPDFDirectoryLoader\n",
    "from langchain.text_splitter import RecursiveCharacterTextSplitter\n",
    "import loggingService\n",
    "import os\n",
    "import weaviate\n",
    "\n",
    "load_dotenv()\n",
    "logger = loggingService.get_logger()\n"
   ]
  },
  {
   "cell_type": "code",
   "execution_count": 3,
   "metadata": {},
   "outputs": [
    {
     "name": "stdout",
     "output_type": "stream",
     "text": [
      "1137\n",
      "page_content='Dom Casmu rro\\nMachado de  Assi s\\nCAPÍTULO PRIM EIRO / DO TÍTULO \\nUma noite destas, vindo da  cidade para o Engenho N ovo, e ncontrei num  trem da Central um rapaz \\naqui do ba irro, que  eu conhe ço de vista e de chapéu. Cum primentou-m e, sentou-se ao pé de mim, \\nfalou da  lua e dos ministros, e acabou re citando-m e versos. A viagem era curta, e os versos pode  ser' metadata={'source': 'data/bv00180a.pdf', 'page': 0}\n"
     ]
    }
   ],
   "source": [
    "apikey = os.getenv(\"GEANAI_KEY\", None)\n",
    "class_name = os.getenv(\"WEVIATE_CLASS\", 'LivrosVectorizer')\n",
    "path = os.getenv(\"DATA_PATH\", \"data\")\n",
    "weaviate_url = os.getenv(\"WEAVIATE_URL\", 'http://127.0.0.1:8080')\n",
    "\n",
    "client = weaviate.Client(\n",
    "    url=weaviate_url,\n",
    ")\n",
    "\n",
    "pages = []\n",
    "pdf_loader = PyPDFDirectoryLoader(path)\n",
    "text_splitter = RecursiveCharacterTextSplitter(chunk_size=400, chunk_overlap=50, separators=[\"\\n\\n\", \"\\n\", \" \", \"\", \"\\n \\n\", \"\\n \\n \\n\",\"\\n\\n\\n\"])\n",
    "documents = pdf_loader.load_and_split(text_splitter=text_splitter)\n",
    "print(len(documents))\n",
    "print(documents[0])"
   ]
  },
  {
   "cell_type": "code",
   "execution_count": null,
   "metadata": {},
   "outputs": [],
   "source": [
    "def pdf_text_splitter(pdf_text) -> dict:\n",
    "  retorno = {'content': '', 'source': '', 'page': 0}\n",
    "  \n",
    "  retorno['content'] = getattr(pdf_text, 'page_content')\n",
    "  retorno['souce'] = getattr(pdf_text, 'metadata')['source']\n",
    "  retorno['page'] = getattr(pdf_text, 'metadata')['page']\n",
    "  \n",
    "  return retorno\n",
    "\n",
    "for doc in documents:\n",
    "  # logger.debug(pdf_text_splitter(doc))\n",
    "  # print(pdf_text_splitter(doc))\n",
    "  pages.append(pdf_text_splitter(doc))\n",
    "  \n",
    "print(pages[0])"
   ]
  },
  {
   "cell_type": "code",
   "execution_count": 3,
   "metadata": {},
   "outputs": [],
   "source": [
    "class_document =  {\n",
    "  \"class\": \"Livros\",\n",
    "  \"description\": \"Dados do documento PDF\",\n",
    "  \"moduleConfig\": {\n",
    "    \"text2vec-transformers\": {\n",
    "      \"poolingStrategy\": \"masked_mean\",\n",
    "      \"vectorizeClassName\": False\n",
    "    }\n",
    "  },\n",
    "  \"properties\": [\n",
    "    {\n",
    "      \"dataType\": [\n",
    "        \"text\"\n",
    "      ],\n",
    "      \"description\": \"Conteúdo do documento PDF\",\n",
    "      \"moduleConfig\": {\n",
    "        \"text2vec-transformers\": {\n",
    "          \"skip\": False,\n",
    "          \"vectorizePropertyName\": False\n",
    "        }\n",
    "      },\n",
    "      \"name\": \"content\"\n",
    "    },\n",
    "    {\n",
    "      \"dataType\": [\n",
    "        \"text\"\n",
    "      ],\n",
    "      \"description\": \"\",\n",
    "      \"moduleConfig\": {\n",
    "        \"text2vec-transformers\": {\n",
    "          \"skip\": False,\n",
    "          \"vectorizePropertyName\": False\n",
    "        }\n",
    "      },\n",
    "      \"name\": \"source\"\n",
    "    },\n",
    "    {\n",
    "      \"dataType\": [\n",
    "        \"text\"\n",
    "      ],\n",
    "      \"description\": \"\",\n",
    "      \"moduleConfig\": {\n",
    "        \"text2vec-transformers\": {\n",
    "          \"skip\": False,\n",
    "          \"vectorizePropertyName\": False\n",
    "        }\n",
    "      },\n",
    "      \"name\": \"page\"\n",
    "    }\n",
    "  ],\n",
    "  \"vectorizer\": \"none\"\n",
    "}\n",
    "\n",
    "class_document2 =  {\n",
    "  \"class\": \"LivrosVectorizer\",\n",
    "  \"description\": \"Dados do documento PDF\",\n",
    "  \"moduleConfig\": {\n",
    "    \"text2vec-transformers\": {\n",
    "      \"poolingStrategy\": \"masked_mean\",\n",
    "      \"vectorizeClassName\": False\n",
    "    }\n",
    "  },\n",
    "  \"properties\": [\n",
    "    {\n",
    "      \"dataType\": [\n",
    "        \"text\"\n",
    "      ],\n",
    "      \"description\": \"Conteúdo do documento PDF\",\n",
    "      \"moduleConfig\": {\n",
    "        \"text2vec-transformers\": {\n",
    "          \"skip\": False,\n",
    "          \"vectorizePropertyName\": False\n",
    "        }\n",
    "      },\n",
    "      \"name\": \"content\"\n",
    "    },\n",
    "    {\n",
    "      \"dataType\": [\n",
    "        \"text\"\n",
    "      ],\n",
    "      \"description\": \"\",\n",
    "      \"moduleConfig\": {\n",
    "        \"text2vec-transformers\": {\n",
    "          \"skip\": False,\n",
    "          \"vectorizePropertyName\": False\n",
    "        }\n",
    "      },\n",
    "      \"name\": \"source\"\n",
    "    },\n",
    "    {\n",
    "      \"dataType\": [\n",
    "        \"text\"\n",
    "      ],\n",
    "      \"description\": \"\",\n",
    "      \"moduleConfig\": {\n",
    "        \"text2vec-transformers\": {\n",
    "          \"skip\": False,\n",
    "          \"vectorizePropertyName\": False\n",
    "        }\n",
    "      },\n",
    "      \"name\": \"page\"\n",
    "    }\n",
    "  ],\n",
    "  \"vectorizer\": \"text2vec-transformers\"\n",
    "}\n",
    "\n",
    "client.schema.create_class(class_document)\n",
    "# client.schema.delete_class('Livros')\n",
    "# client.schema.get(\"LivrosVectorizer\")\n",
    "# client.schema.property.create(class_name, {\n",
    "#     'name': 'exemplar',\n",
    "#     'dataType': ['text'],\n",
    "# })\n"
   ]
  },
  {
   "cell_type": "code",
   "execution_count": null,
   "metadata": {},
   "outputs": [],
   "source": [
    "client.batch.configure(batch_size=10)  # Configure batch\n",
    "with client.batch as batch:\n",
    "  i = 0\n",
    "    \n",
    "  for page in pages:\n",
    "    logger.info(f\"importing question: {i+1}\")\n",
    "    i = i+1\n",
    "    \n",
    "    properties = {\n",
    "      \"content\": page[\"content\"],\n",
    "      \"page\": str(page[\"page\"]),\n",
    "      \"source\": page[\"source\"],\n",
    "    }\n",
    "    \n",
    "    vector = get_embedding(page[\"content\"])\n",
    "\n",
    "    client.batch.add_data_object(properties, 'Livros', vector=vector)\n",
    "    # client.batch.add_data_object(properties, 'LivrosVectorizer')"
   ]
  },
  {
   "cell_type": "code",
   "execution_count": null,
   "metadata": {},
   "outputs": [],
   "source": [
    "result = (client.query\n",
    ".get('Livros', [\"content\", \"source\", \"page\"])\n",
    ".with_additional([\"certainty\", \"distance\"]) # note that certainty is only supported if distance==cosine\n",
    ".with_near_vector({\n",
    "  \"vector\": get_embedding('o que significa casmurro'),\n",
    "  \"certainty\": 0.8\n",
    "})\n",
    ".with_limit(4)\n",
    ".do()\n",
    ")\n",
    "\n",
    "print(result['data']['Get'][class_name])\n",
    "\n",
    "retorno = ''\n",
    "if len(result['data']['Get'][class_name]) > 0:\n",
    "  retorno = result['data']['Get'][class_name][0]['content']\n",
    "\n",
    "  for contexto in result['data']['Get'][class_name][1:]:\n",
    "    retorno += f\"\\n{contexto['content']}\"\n",
    "\n",
    "logger.info(retorno)\n"
   ]
  },
  {
   "cell_type": "code",
   "execution_count": 23,
   "metadata": {},
   "outputs": [
    {
     "name": "stdout",
     "output_type": "stream",
     "text": [
      "{'data': {'Aggregate': {'Livros': [{'meta': {'count': 1119}}]}}}\n"
     ]
    },
    {
     "data": {
      "application/vnd.jupyter.widget-view+json": {
       "model_id": "7d6928ea9f3a4f75a42ec222cbaae1dd",
       "version_major": 2,
       "version_minor": 0
      },
      "text/plain": [
       "Batches:   0%|          | 0/1 [00:00<?, ?it/s]"
      ]
     },
     "metadata": {},
     "output_type": "display_data"
    },
    {
     "name": "stdout",
     "output_type": "stream",
     "text": [
      "{'data': {'Get': {'Livros': [{'_additional': {'certainty': 0.8990992605686188, 'distance': 0.20180148}, 'content': 'um vasto círculo de saias ou, t repadas no a r, choviam pés e pernas sobre a minha cabeça. Assim fui \\naté madruga da. Não dorm i mais; rezei padre-nossos, ave-marias, e credos, e sendo e ste livro a \\nverdade pura , é força confessar que  tive de interrom per mais de uma vez as minhas orações para \\nacompanhar no e scuro um a figura ao longe , tique-tique, tique-tique... Pegava depressa na oração,', 'page': '46', 'source': ''}, {'_additional': {'certainty': 0.8355421423912048, 'distance': 0.32891572}, 'content': 'carro andaria mais depressa que as pernas- estas iriam pausadas ou nã o, podi a afrouxa r o pa sso. \\nparar, arrepiar caminho, e  deixar que  a cabeça cismasse à vont ade. Fui andando e  cismando. T inha \\njá comparado o ge sto de Sancha na véspera e o de sespero da quele dia; eram inconciliáveis. A viúva', 'page': '91', 'source': ''}, {'_additional': {'certainty': 0.8221188187599182, 'distance': 0.35576236}, 'content': 'Oh! flor do c éu! oh! fl or cândida e pura ! \\nCom o e por que  me saiu este verso da cabeça, não sei; saiu assim, estando e u na cama como um a \\nexclamação solta, e, ao not ar que  tinha a medida de verso, pe nsei em compor c om ele alguma \\ncousa, um soneto. A insônia, musa de olhos arregalados, não me deixou dorm ir uma longa  hora  ou', 'page': '43', 'source': ''}, {'_additional': {'certainty': 0.8187165260314941, 'distance': 0.36256695}, 'content': 'agora de relance as ligas azuis; eram azuis. De noite, sonhe i com elas. Uma multidão de \\nabomináveis criaturas veio andar à roda  de mim, tique-tique... Eram belas, umas finas, outras \\ngrossas, todas ágeis como o di abo. A cordei, bus quei afugentá-las com esconde rijos e outros \\nmétodos , mas tão depressa dorm i como tornaram, e, com as mãos presas em volta de mim, faziam', 'page': '46', 'source': ''}]}}}\n",
      "[{'_additional': {'certainty': 0.8990992605686188, 'distance': 0.20180148}, 'content': 'um vasto círculo de saias ou, t repadas no a r, choviam pés e pernas sobre a minha cabeça. Assim fui \\naté madruga da. Não dorm i mais; rezei padre-nossos, ave-marias, e credos, e sendo e ste livro a \\nverdade pura , é força confessar que  tive de interrom per mais de uma vez as minhas orações para \\nacompanhar no e scuro um a figura ao longe , tique-tique, tique-tique... Pegava depressa na oração,', 'page': '46', 'source': ''}, {'_additional': {'certainty': 0.8355421423912048, 'distance': 0.32891572}, 'content': 'carro andaria mais depressa que as pernas- estas iriam pausadas ou nã o, podi a afrouxa r o pa sso. \\nparar, arrepiar caminho, e  deixar que  a cabeça cismasse à vont ade. Fui andando e  cismando. T inha \\njá comparado o ge sto de Sancha na véspera e o de sespero da quele dia; eram inconciliáveis. A viúva', 'page': '91', 'source': ''}, {'_additional': {'certainty': 0.8221188187599182, 'distance': 0.35576236}, 'content': 'Oh! flor do c éu! oh! fl or cândida e pura ! \\nCom o e por que  me saiu este verso da cabeça, não sei; saiu assim, estando e u na cama como um a \\nexclamação solta, e, ao not ar que  tinha a medida de verso, pe nsei em compor c om ele alguma \\ncousa, um soneto. A insônia, musa de olhos arregalados, não me deixou dorm ir uma longa  hora  ou', 'page': '43', 'source': ''}, {'_additional': {'certainty': 0.8187165260314941, 'distance': 0.36256695}, 'content': 'agora de relance as ligas azuis; eram azuis. De noite, sonhe i com elas. Uma multidão de \\nabomináveis criaturas veio andar à roda  de mim, tique-tique... Eram belas, umas finas, outras \\ngrossas, todas ágeis como o di abo. A cordei, bus quei afugentá-las com esconde rijos e outros \\nmétodos , mas tão depressa dorm i como tornaram, e, com as mãos presas em volta de mim, faziam', 'page': '46', 'source': ''}]\n"
     ]
    }
   ],
   "source": [
    "print(client.query.aggregate('Livros').with_meta_count().do())\n",
    "\n",
    "result = (client.query\n",
    "  .get('Livros', [\"content\", \"source\", \"page\"])\n",
    "  .with_additional([\"certainty\", \"distance\"]) # note that certainty is only supported if distance==cosine\n",
    "  .with_near_vector({\n",
    "    \"vector\": get_embedding('um vasto círculo de saias ou, t repadas no a r, choviam pés e pernas sobre a minha cabeça. Assim fui \\naté madruga da. Não dorm i mais;'),\n",
    "    \"certainty\": 0.8\n",
    "  })\n",
    "  .with_limit(4)\n",
    "  .do()\n",
    ")\n",
    "\n",
    "print(result)\n",
    "print(result['data']['Get']['Livros'])"
   ]
  },
  {
   "cell_type": "code",
   "execution_count": 24,
   "metadata": {},
   "outputs": [
    {
     "name": "stdout",
     "output_type": "stream",
     "text": [
      "{'content': '--Com o? \\n--Espere até amanhã. Vou jogar com eles que me chamaram, amanhã, lá no qua rto, no qui ntal, ou na \\nrua, indo à  missa, conto-lhe o que  há. A idéia é tão santa que não está mal no s antuário. Amanha, \\nBentinho. \\n-- Mas é cousa certa? \\n--Certíssima! \\nNo dia seguinte revelou-m e o mistério. Ao primeiro aspecto confesso que  fiquei deslumbrado.', 'page': '71', 'source': ''}\n",
      "1024\n"
     ]
    }
   ],
   "source": [
    "result = client.data_object.get(class_name='Livros', offset=300, with_vector=True)\n",
    "\n",
    "print(result['objects'][0]['properties'])\n",
    "print(len(result['objects'][0]['vector']))"
   ]
  }
 ],
 "metadata": {
  "kernelspec": {
   "display_name": "Python 3 (ipykernel)",
   "language": "python",
   "name": "python3"
  },
  "language_info": {
   "codemirror_mode": {
    "name": "ipython",
    "version": 3
   },
   "file_extension": ".py",
   "mimetype": "text/x-python",
   "name": "python",
   "nbconvert_exporter": "python",
   "pygments_lexer": "ipython3",
   "version": "3.9.16"
  }
 },
 "nbformat": 4,
 "nbformat_minor": 4
}
