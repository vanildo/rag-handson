{
 "cells": [
  {
   "cell_type": "code",
   "execution_count": null,
   "metadata": {},
   "outputs": [],
   "source": [
    "from conversationService import get_llm_response\n",
    "import gradio as gr\n"
   ]
  },
  {
   "cell_type": "code",
   "execution_count": null,
   "metadata": {},
   "outputs": [],
   "source": [
    "def exit_ui():\n",
    "  gr.close_all()\n",
    "  exit(0)\n",
    "\n",
    "text_box = gr.Textbox('Pergunta: ')\n",
    "demo = gr.ChatInterface(\n",
    "  get_llm_response,\n",
    "  title='Mochileiro das Galáxias WatsonX',\n",
    "  textbox=text_box, \n",
    "  submit_btn=gr.Button('Perguntar'),\n",
    "  retry_btn=gr.Button('Tentar novamente'),\n",
    "  clear_btn= gr.Button('Limpar'),\n",
    "  undo_btn = gr.Button('Desfazer'),\n",
    "  \n",
    ")\n",
    "\n",
    "demo.launch()"
   ]
  }
 ],
 "metadata": {
  "kernelspec": {
   "display_name": "ml",
   "language": "python",
   "name": "python3"
  },
  "language_info": {
   "codemirror_mode": {
    "name": "ipython",
    "version": 3
   },
   "file_extension": ".py",
   "mimetype": "text/x-python",
   "name": "python",
   "nbconvert_exporter": "python",
   "pygments_lexer": "ipython3",
   "version": "3.9.16"
  }
 },
 "nbformat": 4,
 "nbformat_minor": 2
}
